{
 "cells": [
  {
   "cell_type": "markdown",
   "id": "24291411",
   "metadata": {},
   "source": [
    "# Q.1: Write Steps Involved in PCA. "
   ]
  },
  {
   "cell_type": "markdown",
   "id": "26ed3085",
   "metadata": {},
   "source": [
    "As the number of features or dimensions in a dataset increases, the amount of data required to obtain a statistically significant result increases exponentially. This can lead to issues such as overfitting, increased computation time, and reduced accuracy of machine learning models this is known as the curse of dimensionality problems that arise while working with high-dimensional data.\n",
    "\n",
    "As the number of dimensions increases, the number of possible combinations of features increases exponentially, which makes it computationally difficult to obtain a representative sample of the data and it becomes expensive to perform tasks such as clustering or classification because it becomes. Additionally, some machine learning algorithms can be sensitive to the number of dimensions, requiring more data to achieve the same level of accuracy as lower-dimensional data.\n",
    "\n",
    "To address the curse of dimensionality, Feature engineering techniques are used which include feature selection and feature extraction. Dimensionality reduction is a type of feature extraction technique that aims to reduce the number of input features while retaining as much of the original information as possible.\n",
    "\n",
    "\n",
    "\n",
    "PCA:\n",
    "\n",
    "Principal Component Analysis(PCA) technique was introduced by the mathematician Karl Pearson in 1901. It works on the condition that while the data in a higher dimensional space is mapped to data in a lower dimension space, the variance of the data in the lower dimensional space should be maximum. \n",
    "\n",
    "Principal Component Analysis (PCA) is a statistical procedure that uses an orthogonal transformation that converts a set of correlated variables to a set of uncorrelated variables.PCA is the most widely used tool in exploratory data analysis and in machine learning for predictive models. Moreover, \n",
    "Principal Component Analysis (PCA) is an unsupervised learning algorithm technique used to examine the interrelations among a set of variables. It is also known as a general factor analysis where regression determines a line of best fit. \n",
    "The main goal of Principal Component Analysis (PCA) is to reduce the dimensionality of a dataset while preserving the most important patterns or relationships between the variables without any prior knowledge of the target variables. \n",
    "\n",
    "\n",
    "\n",
    "Steps:\n",
    "\n",
    "1. Standardization:\n",
    "Begin by standardizing your dataset. This ensures that each variable has a mean of 0 and a standard deviation of 1. The formula for standardization is: [ z = \\frac{{x - \\mu}}{{\\sigma}} ] where (x) represents the original value, (\\mu) is the mean of independent features, and (\\sigma) is the standard deviation of independent features.\n",
    "\n",
    "\n",
    "2. Covariance Matrix Computation:\n",
    "Calculate the covariance matrix for the features in your dataset. The covariance between two variables (X) and (Y) is given by: [ \\text{{cov}}(X, Y) = \\frac{{\\sum_{i=1}^{n} (X_i - \\bar{X})(Y_i - \\bar{Y})}}{{n-1}} ] where (\\bar{X}) and (\\bar{Y}) are the means of (X) and (Y), respectively.\n",
    "\n",
    "\n",
    "3. Eigenvalues and Eigenvectors:\n",
    "Compute the eigenvalues and eigenvectors of the covariance matrix. These represent the directions (principal components) along which the data varies the most.\n",
    "The eigenvalues indicate the amount of variance explained by each principal component.\n",
    "\n",
    "\n",
    "4. Sort Eigenvalues and Eigenvectors:\n",
    "Sort the eigenvalues in descending order. The corresponding eigenvectors will follow the same order.\n",
    "Select the top (k) eigenvalues (where (k) is the desired reduced dimensionality).\n",
    "\n",
    "\n",
    "5. Form a Matrix of Eigenvectors:\n",
    "Create a matrix using the top (k) eigenvectors as columns. This matrix will serve as the transformation matrix to project your data onto the new subspace.\n",
    "\n",
    "\n",
    "\n",
    "By following these steps, PCA helps you reduce the dimensionality of your dataset while retaining the most important patterns or relationships between variables. It’s a valuable tool for exploratory data analysis and machine learning modeling. "
   ]
  },
  {
   "cell_type": "code",
   "execution_count": null,
   "id": "05f4cb1a",
   "metadata": {},
   "outputs": [],
   "source": []
  },
  {
   "cell_type": "markdown",
   "id": "2c18ac71",
   "metadata": {},
   "source": [
    "# Q.2: Perform dimensionality reduction using PCA on the US Arrests dataset (enclosed herewith). What variance can be explained by PC1 & PC2?"
   ]
  },
  {
   "cell_type": "code",
   "execution_count": 1,
   "id": "82e3c11a",
   "metadata": {},
   "outputs": [],
   "source": [
    "import pandas as pd\n",
    "import numpy as np\n",
    "import matplotlib.pyplot as plt\n",
    "import seaborn as sns\n",
    "\n",
    "from sklearn.decomposition import PCA\n",
    "from sklearn.preprocessing import StandardScaler\n",
    "\n",
    "import warnings \n",
    "warnings.filterwarnings('ignore')"
   ]
  },
  {
   "cell_type": "code",
   "execution_count": 2,
   "id": "ea4287dc",
   "metadata": {},
   "outputs": [],
   "source": [
    "df = pd.read_csv('USArrests.csv')"
   ]
  },
  {
   "cell_type": "code",
   "execution_count": 4,
   "id": "914e581e",
   "metadata": {},
   "outputs": [
    {
     "data": {
      "text/html": [
       "<div>\n",
       "<style scoped>\n",
       "    .dataframe tbody tr th:only-of-type {\n",
       "        vertical-align: middle;\n",
       "    }\n",
       "\n",
       "    .dataframe tbody tr th {\n",
       "        vertical-align: top;\n",
       "    }\n",
       "\n",
       "    .dataframe thead th {\n",
       "        text-align: right;\n",
       "    }\n",
       "</style>\n",
       "<table border=\"1\" class=\"dataframe\">\n",
       "  <thead>\n",
       "    <tr style=\"text-align: right;\">\n",
       "      <th></th>\n",
       "      <th>Unnamed: 0</th>\n",
       "      <th>Murder</th>\n",
       "      <th>Assault</th>\n",
       "      <th>UrbanPop</th>\n",
       "      <th>Rape</th>\n",
       "    </tr>\n",
       "  </thead>\n",
       "  <tbody>\n",
       "    <tr>\n",
       "      <th>0</th>\n",
       "      <td>Alabama</td>\n",
       "      <td>13.2</td>\n",
       "      <td>236</td>\n",
       "      <td>58</td>\n",
       "      <td>21.2</td>\n",
       "    </tr>\n",
       "    <tr>\n",
       "      <th>1</th>\n",
       "      <td>Alaska</td>\n",
       "      <td>10.0</td>\n",
       "      <td>263</td>\n",
       "      <td>48</td>\n",
       "      <td>44.5</td>\n",
       "    </tr>\n",
       "    <tr>\n",
       "      <th>2</th>\n",
       "      <td>Arizona</td>\n",
       "      <td>8.1</td>\n",
       "      <td>294</td>\n",
       "      <td>80</td>\n",
       "      <td>31.0</td>\n",
       "    </tr>\n",
       "    <tr>\n",
       "      <th>3</th>\n",
       "      <td>Arkansas</td>\n",
       "      <td>8.8</td>\n",
       "      <td>190</td>\n",
       "      <td>50</td>\n",
       "      <td>19.5</td>\n",
       "    </tr>\n",
       "    <tr>\n",
       "      <th>4</th>\n",
       "      <td>California</td>\n",
       "      <td>9.0</td>\n",
       "      <td>276</td>\n",
       "      <td>91</td>\n",
       "      <td>40.6</td>\n",
       "    </tr>\n",
       "  </tbody>\n",
       "</table>\n",
       "</div>"
      ],
      "text/plain": [
       "   Unnamed: 0  Murder  Assault  UrbanPop  Rape\n",
       "0     Alabama    13.2      236        58  21.2\n",
       "1      Alaska    10.0      263        48  44.5\n",
       "2     Arizona     8.1      294        80  31.0\n",
       "3    Arkansas     8.8      190        50  19.5\n",
       "4  California     9.0      276        91  40.6"
      ]
     },
     "execution_count": 4,
     "metadata": {},
     "output_type": "execute_result"
    }
   ],
   "source": [
    "df.head()"
   ]
  },
  {
   "cell_type": "code",
   "execution_count": 6,
   "id": "0963eab8",
   "metadata": {},
   "outputs": [
    {
     "data": {
      "text/plain": [
       "<bound method DataFrame.info of         Unnamed: 0  Murder  Assault  UrbanPop  Rape\n",
       "0          Alabama    13.2      236        58  21.2\n",
       "1           Alaska    10.0      263        48  44.5\n",
       "2          Arizona     8.1      294        80  31.0\n",
       "3         Arkansas     8.8      190        50  19.5\n",
       "4       California     9.0      276        91  40.6\n",
       "5         Colorado     7.9      204        78  38.7\n",
       "6      Connecticut     3.3      110        77  11.1\n",
       "7         Delaware     5.9      238        72  15.8\n",
       "8          Florida    15.4      335        80  31.9\n",
       "9          Georgia    17.4      211        60  25.8\n",
       "10          Hawaii     5.3       46        83  20.2\n",
       "11           Idaho     2.6      120        54  14.2\n",
       "12        Illinois    10.4      249        83  24.0\n",
       "13         Indiana     7.2      113        65  21.0\n",
       "14            Iowa     2.2       56        57  11.3\n",
       "15          Kansas     6.0      115        66  18.0\n",
       "16        Kentucky     9.7      109        52  16.3\n",
       "17       Louisiana    15.4      249        66  22.2\n",
       "18           Maine     2.1       83        51   7.8\n",
       "19        Maryland    11.3      300        67  27.8\n",
       "20   Massachusetts     4.4      149        85  16.3\n",
       "21        Michigan    12.1      255        74  35.1\n",
       "22       Minnesota     2.7       72        66  14.9\n",
       "23     Mississippi    16.1      259        44  17.1\n",
       "24        Missouri     9.0      178        70  28.2\n",
       "25         Montana     6.0      109        53  16.4\n",
       "26        Nebraska     4.3      102        62  16.5\n",
       "27          Nevada    12.2      252        81  46.0\n",
       "28   New Hampshire     2.1       57        56   9.5\n",
       "29      New Jersey     7.4      159        89  18.8\n",
       "30      New Mexico    11.4      285        70  32.1\n",
       "31        New York    11.1      254        86  26.1\n",
       "32  North Carolina    13.0      337        45  16.1\n",
       "33    North Dakota     0.8       45        44   7.3\n",
       "34            Ohio     7.3      120        75  21.4\n",
       "35        Oklahoma     6.6      151        68  20.0\n",
       "36          Oregon     4.9      159        67  29.3\n",
       "37    Pennsylvania     6.3      106        72  14.9\n",
       "38    Rhode Island     3.4      174        87   8.3\n",
       "39  South Carolina    14.4      279        48  22.5\n",
       "40    South Dakota     3.8       86        45  12.8\n",
       "41       Tennessee    13.2      188        59  26.9\n",
       "42           Texas    12.7      201        80  25.5\n",
       "43            Utah     3.2      120        80  22.9\n",
       "44         Vermont     2.2       48        32  11.2\n",
       "45        Virginia     8.5      156        63  20.7\n",
       "46      Washington     4.0      145        73  26.2\n",
       "47   West Virginia     5.7       81        39   9.3\n",
       "48       Wisconsin     2.6       53        66  10.8\n",
       "49         Wyoming     6.8      161        60  15.6>"
      ]
     },
     "execution_count": 6,
     "metadata": {},
     "output_type": "execute_result"
    }
   ],
   "source": [
    "df.info"
   ]
  },
  {
   "cell_type": "code",
   "execution_count": 8,
   "id": "27f903cc",
   "metadata": {},
   "outputs": [
    {
     "data": {
      "text/plain": [
       "(50, 5)"
      ]
     },
     "execution_count": 8,
     "metadata": {},
     "output_type": "execute_result"
    }
   ],
   "source": [
    "df.shape"
   ]
  },
  {
   "cell_type": "markdown",
   "id": "6dbb620e",
   "metadata": {},
   "source": [
    "## Naming Unnamed Column "
   ]
  },
  {
   "cell_type": "code",
   "execution_count": 14,
   "id": "fcad5d2a",
   "metadata": {},
   "outputs": [
    {
     "data": {
      "text/html": [
       "<div>\n",
       "<style scoped>\n",
       "    .dataframe tbody tr th:only-of-type {\n",
       "        vertical-align: middle;\n",
       "    }\n",
       "\n",
       "    .dataframe tbody tr th {\n",
       "        vertical-align: top;\n",
       "    }\n",
       "\n",
       "    .dataframe thead th {\n",
       "        text-align: right;\n",
       "    }\n",
       "</style>\n",
       "<table border=\"1\" class=\"dataframe\">\n",
       "  <thead>\n",
       "    <tr style=\"text-align: right;\">\n",
       "      <th></th>\n",
       "      <th>State</th>\n",
       "      <th>Murder</th>\n",
       "      <th>Assault</th>\n",
       "      <th>UrbanPop</th>\n",
       "      <th>Rape</th>\n",
       "    </tr>\n",
       "  </thead>\n",
       "  <tbody>\n",
       "    <tr>\n",
       "      <th>0</th>\n",
       "      <td>Alabama</td>\n",
       "      <td>13.2</td>\n",
       "      <td>236</td>\n",
       "      <td>58</td>\n",
       "      <td>21.2</td>\n",
       "    </tr>\n",
       "    <tr>\n",
       "      <th>1</th>\n",
       "      <td>Alaska</td>\n",
       "      <td>10.0</td>\n",
       "      <td>263</td>\n",
       "      <td>48</td>\n",
       "      <td>44.5</td>\n",
       "    </tr>\n",
       "    <tr>\n",
       "      <th>2</th>\n",
       "      <td>Arizona</td>\n",
       "      <td>8.1</td>\n",
       "      <td>294</td>\n",
       "      <td>80</td>\n",
       "      <td>31.0</td>\n",
       "    </tr>\n",
       "    <tr>\n",
       "      <th>3</th>\n",
       "      <td>Arkansas</td>\n",
       "      <td>8.8</td>\n",
       "      <td>190</td>\n",
       "      <td>50</td>\n",
       "      <td>19.5</td>\n",
       "    </tr>\n",
       "    <tr>\n",
       "      <th>4</th>\n",
       "      <td>California</td>\n",
       "      <td>9.0</td>\n",
       "      <td>276</td>\n",
       "      <td>91</td>\n",
       "      <td>40.6</td>\n",
       "    </tr>\n",
       "  </tbody>\n",
       "</table>\n",
       "</div>"
      ],
      "text/plain": [
       "        State  Murder  Assault  UrbanPop  Rape\n",
       "0     Alabama    13.2      236        58  21.2\n",
       "1      Alaska    10.0      263        48  44.5\n",
       "2     Arizona     8.1      294        80  31.0\n",
       "3    Arkansas     8.8      190        50  19.5\n",
       "4  California     9.0      276        91  40.6"
      ]
     },
     "execution_count": 14,
     "metadata": {},
     "output_type": "execute_result"
    }
   ],
   "source": [
    "df = df.rename(columns={'Unnamed: 0':'State'})\n",
    "df.head()"
   ]
  },
  {
   "cell_type": "code",
   "execution_count": 29,
   "id": "82d9a939",
   "metadata": {},
   "outputs": [
    {
     "data": {
      "text/plain": [
       "Index(['State', 'Murder', 'Assault', 'UrbanPop', 'Rape'], dtype='object')"
      ]
     },
     "execution_count": 29,
     "metadata": {},
     "output_type": "execute_result"
    }
   ],
   "source": [
    "df.columns"
   ]
  },
  {
   "cell_type": "code",
   "execution_count": 30,
   "id": "018f9d02",
   "metadata": {},
   "outputs": [
    {
     "data": {
      "text/plain": [
       "State\n",
       "Alabama           1\n",
       "Mississippi       1\n",
       "Arizona           1\n",
       "Arkansas          1\n",
       "California        1\n",
       "Colorado          1\n",
       "Connecticut       1\n",
       "Delaware          1\n",
       "Florida           1\n",
       "Georgia           1\n",
       "Hawaii            1\n",
       "Idaho             1\n",
       "Illinois          1\n",
       "Indiana           1\n",
       "Iowa              1\n",
       "Kansas            1\n",
       "Kentucky          1\n",
       "Louisiana         1\n",
       "Maine             1\n",
       "Maryland          1\n",
       "Massachusetts     1\n",
       "Michigan          1\n",
       "Missouri          1\n",
       "Montana           1\n",
       "Nebraska          1\n",
       "Wisconsin         1\n",
       "Pennsylvania      1\n",
       "Nevada            1\n",
       "New Hampshire     1\n",
       "New Jersey        1\n",
       "New Mexico        1\n",
       "New York          1\n",
       "North Carolina    1\n",
       "North Dakota      1\n",
       "Ohio              1\n",
       "Oklahoma          1\n",
       "Minnesota         1\n",
       "Oregon            1\n",
       "Alaska            1\n",
       "South Carolina    1\n",
       "South Dakota      1\n",
       "Tennessee         1\n",
       "Texas             1\n",
       "Utah              1\n",
       "Vermont           1\n",
       "Virginia          1\n",
       "Washington        1\n",
       "West Virginia     1\n",
       "Rhode Island      1\n",
       "Wyoming           1\n",
       "Name: count, dtype: int64"
      ]
     },
     "execution_count": 30,
     "metadata": {},
     "output_type": "execute_result"
    }
   ],
   "source": [
    "df['State'].value_counts().sort_values()"
   ]
  },
  {
   "cell_type": "code",
   "execution_count": 31,
   "id": "0e5a5e48",
   "metadata": {},
   "outputs": [
    {
     "name": "stdout",
     "output_type": "stream",
     "text": [
      "Total Number of States:\t50\n"
     ]
    }
   ],
   "source": [
    "print(f\"Total Number of States:\\t{df.shape[0]}\")"
   ]
  },
  {
   "cell_type": "code",
   "execution_count": 16,
   "id": "5084fb46",
   "metadata": {},
   "outputs": [
    {
     "data": {
      "text/plain": [
       "Murder\n",
       "4.0     1\n",
       "11.4    1\n",
       "2.7     1\n",
       "12.2    1\n",
       "4.3     1\n",
       "8.1     1\n",
       "8.8     1\n",
       "7.9     1\n",
       "3.3     1\n",
       "5.7     1\n",
       "5.9     1\n",
       "5.3     1\n",
       "10.4    1\n",
       "7.2     1\n",
       "9.7     1\n",
       "11.3    1\n",
       "4.4     1\n",
       "12.1    1\n",
       "10.0    1\n",
       "17.4    1\n",
       "16.1    1\n",
       "6.8     1\n",
       "3.2     1\n",
       "11.1    1\n",
       "13.0    1\n",
       "8.5     1\n",
       "7.3     1\n",
       "6.6     1\n",
       "4.9     1\n",
       "0.8     1\n",
       "6.3     1\n",
       "7.4     1\n",
       "14.4    1\n",
       "3.8     1\n",
       "12.7    1\n",
       "3.4     1\n",
       "6.0     2\n",
       "2.6     2\n",
       "2.1     2\n",
       "15.4    2\n",
       "9.0     2\n",
       "2.2     2\n",
       "13.2    2\n",
       "Name: count, dtype: int64"
      ]
     },
     "execution_count": 16,
     "metadata": {},
     "output_type": "execute_result"
    }
   ],
   "source": [
    "df['Murder'].value_counts().sort_values()"
   ]
  },
  {
   "cell_type": "code",
   "execution_count": 17,
   "id": "542c1c6d",
   "metadata": {},
   "outputs": [
    {
     "data": {
      "text/plain": [
       "Assault\n",
       "53     1\n",
       "259    1\n",
       "178    1\n",
       "263    1\n",
       "294    1\n",
       "190    1\n",
       "276    1\n",
       "204    1\n",
       "110    1\n",
       "238    1\n",
       "335    1\n",
       "211    1\n",
       "46     1\n",
       "113    1\n",
       "56     1\n",
       "115    1\n",
       "83     1\n",
       "300    1\n",
       "149    1\n",
       "255    1\n",
       "252    1\n",
       "72     1\n",
       "161    1\n",
       "145    1\n",
       "174    1\n",
       "57     1\n",
       "285    1\n",
       "254    1\n",
       "337    1\n",
       "45     1\n",
       "81     1\n",
       "106    1\n",
       "151    1\n",
       "102    1\n",
       "279    1\n",
       "86     1\n",
       "188    1\n",
       "201    1\n",
       "48     1\n",
       "156    1\n",
       "236    1\n",
       "109    2\n",
       "159    2\n",
       "249    2\n",
       "120    3\n",
       "Name: count, dtype: int64"
      ]
     },
     "execution_count": 17,
     "metadata": {},
     "output_type": "execute_result"
    }
   ],
   "source": [
    "df['Assault'].value_counts().sort_values()"
   ]
  },
  {
   "cell_type": "code",
   "execution_count": 18,
   "id": "45a59329",
   "metadata": {},
   "outputs": [
    {
     "data": {
      "text/plain": [
       "UrbanPop\n",
       "59    1\n",
       "73    1\n",
       "56    1\n",
       "74    1\n",
       "62    1\n",
       "53    1\n",
       "85    1\n",
       "63    1\n",
       "51    1\n",
       "57    1\n",
       "65    1\n",
       "54    1\n",
       "77    1\n",
       "78    1\n",
       "91    1\n",
       "52    1\n",
       "32    1\n",
       "39    1\n",
       "87    1\n",
       "81    1\n",
       "75    1\n",
       "68    1\n",
       "86    1\n",
       "89    1\n",
       "58    1\n",
       "50    1\n",
       "70    2\n",
       "44    2\n",
       "48    2\n",
       "67    2\n",
       "60    2\n",
       "83    2\n",
       "45    2\n",
       "72    2\n",
       "80    4\n",
       "66    4\n",
       "Name: count, dtype: int64"
      ]
     },
     "execution_count": 18,
     "metadata": {},
     "output_type": "execute_result"
    }
   ],
   "source": [
    "df['UrbanPop'].value_counts().sort_values()"
   ]
  },
  {
   "cell_type": "code",
   "execution_count": 19,
   "id": "75c1717d",
   "metadata": {},
   "outputs": [
    {
     "data": {
      "text/plain": [
       "Rape\n",
       "10.8    1\n",
       "44.5    1\n",
       "28.2    1\n",
       "31.0    1\n",
       "19.5    1\n",
       "40.6    1\n",
       "38.7    1\n",
       "11.1    1\n",
       "15.8    1\n",
       "31.9    1\n",
       "16.4    1\n",
       "25.8    1\n",
       "14.2    1\n",
       "24.0    1\n",
       "21.0    1\n",
       "11.3    1\n",
       "18.0    1\n",
       "22.2    1\n",
       "7.8     1\n",
       "27.8    1\n",
       "35.1    1\n",
       "20.2    1\n",
       "46.0    1\n",
       "15.6    1\n",
       "9.3     1\n",
       "21.2    1\n",
       "29.3    1\n",
       "9.5     1\n",
       "18.8    1\n",
       "32.1    1\n",
       "26.1    1\n",
       "16.1    1\n",
       "7.3     1\n",
       "21.4    1\n",
       "17.1    1\n",
       "20.0    1\n",
       "16.5    1\n",
       "22.5    1\n",
       "12.8    1\n",
       "26.9    1\n",
       "25.5    1\n",
       "22.9    1\n",
       "11.2    1\n",
       "20.7    1\n",
       "26.2    1\n",
       "8.3     1\n",
       "16.3    2\n",
       "14.9    2\n",
       "Name: count, dtype: int64"
      ]
     },
     "execution_count": 19,
     "metadata": {},
     "output_type": "execute_result"
    }
   ],
   "source": [
    "df['Rape'].value_counts().sort_values()"
   ]
  },
  {
   "cell_type": "markdown",
   "id": "409323fa",
   "metadata": {},
   "source": [
    "# Checking Missing Values"
   ]
  },
  {
   "cell_type": "code",
   "execution_count": 20,
   "id": "ab16f03d",
   "metadata": {},
   "outputs": [
    {
     "data": {
      "text/html": [
       "<div>\n",
       "<style scoped>\n",
       "    .dataframe tbody tr th:only-of-type {\n",
       "        vertical-align: middle;\n",
       "    }\n",
       "\n",
       "    .dataframe tbody tr th {\n",
       "        vertical-align: top;\n",
       "    }\n",
       "\n",
       "    .dataframe thead th {\n",
       "        text-align: right;\n",
       "    }\n",
       "</style>\n",
       "<table border=\"1\" class=\"dataframe\">\n",
       "  <thead>\n",
       "    <tr style=\"text-align: right;\">\n",
       "      <th></th>\n",
       "      <th>Missing Values</th>\n",
       "    </tr>\n",
       "  </thead>\n",
       "  <tbody>\n",
       "    <tr>\n",
       "      <th>State</th>\n",
       "      <td>0</td>\n",
       "    </tr>\n",
       "    <tr>\n",
       "      <th>Murder</th>\n",
       "      <td>0</td>\n",
       "    </tr>\n",
       "    <tr>\n",
       "      <th>Assault</th>\n",
       "      <td>0</td>\n",
       "    </tr>\n",
       "    <tr>\n",
       "      <th>UrbanPop</th>\n",
       "      <td>0</td>\n",
       "    </tr>\n",
       "    <tr>\n",
       "      <th>Rape</th>\n",
       "      <td>0</td>\n",
       "    </tr>\n",
       "  </tbody>\n",
       "</table>\n",
       "</div>"
      ],
      "text/plain": [
       "          Missing Values\n",
       "State                  0\n",
       "Murder                 0\n",
       "Assault                0\n",
       "UrbanPop               0\n",
       "Rape                   0"
      ]
     },
     "execution_count": 20,
     "metadata": {},
     "output_type": "execute_result"
    }
   ],
   "source": [
    "missing_values = pd.DataFrame(df.isnull().sum(), columns=[\"Missing Values\"])\n",
    "missing_values"
   ]
  },
  {
   "cell_type": "code",
   "execution_count": 24,
   "id": "cd110c79",
   "metadata": {},
   "outputs": [
    {
     "data": {
      "text/html": [
       "<div>\n",
       "<style scoped>\n",
       "    .dataframe tbody tr th:only-of-type {\n",
       "        vertical-align: middle;\n",
       "    }\n",
       "\n",
       "    .dataframe tbody tr th {\n",
       "        vertical-align: top;\n",
       "    }\n",
       "\n",
       "    .dataframe thead th {\n",
       "        text-align: right;\n",
       "    }\n",
       "</style>\n",
       "<table border=\"1\" class=\"dataframe\">\n",
       "  <thead>\n",
       "    <tr style=\"text-align: right;\">\n",
       "      <th></th>\n",
       "      <th>Murder</th>\n",
       "      <th>Assault</th>\n",
       "      <th>UrbanPop</th>\n",
       "      <th>Rape</th>\n",
       "    </tr>\n",
       "  </thead>\n",
       "  <tbody>\n",
       "    <tr>\n",
       "      <th>count</th>\n",
       "      <td>50.00000</td>\n",
       "      <td>50.000000</td>\n",
       "      <td>50.000000</td>\n",
       "      <td>50.000000</td>\n",
       "    </tr>\n",
       "    <tr>\n",
       "      <th>mean</th>\n",
       "      <td>7.78800</td>\n",
       "      <td>170.760000</td>\n",
       "      <td>65.540000</td>\n",
       "      <td>21.232000</td>\n",
       "    </tr>\n",
       "    <tr>\n",
       "      <th>std</th>\n",
       "      <td>4.35551</td>\n",
       "      <td>83.337661</td>\n",
       "      <td>14.474763</td>\n",
       "      <td>9.366385</td>\n",
       "    </tr>\n",
       "    <tr>\n",
       "      <th>min</th>\n",
       "      <td>0.80000</td>\n",
       "      <td>45.000000</td>\n",
       "      <td>32.000000</td>\n",
       "      <td>7.300000</td>\n",
       "    </tr>\n",
       "    <tr>\n",
       "      <th>25%</th>\n",
       "      <td>4.07500</td>\n",
       "      <td>109.000000</td>\n",
       "      <td>54.500000</td>\n",
       "      <td>15.075000</td>\n",
       "    </tr>\n",
       "    <tr>\n",
       "      <th>50%</th>\n",
       "      <td>7.25000</td>\n",
       "      <td>159.000000</td>\n",
       "      <td>66.000000</td>\n",
       "      <td>20.100000</td>\n",
       "    </tr>\n",
       "    <tr>\n",
       "      <th>75%</th>\n",
       "      <td>11.25000</td>\n",
       "      <td>249.000000</td>\n",
       "      <td>77.750000</td>\n",
       "      <td>26.175000</td>\n",
       "    </tr>\n",
       "    <tr>\n",
       "      <th>max</th>\n",
       "      <td>17.40000</td>\n",
       "      <td>337.000000</td>\n",
       "      <td>91.000000</td>\n",
       "      <td>46.000000</td>\n",
       "    </tr>\n",
       "  </tbody>\n",
       "</table>\n",
       "</div>"
      ],
      "text/plain": [
       "         Murder     Assault   UrbanPop       Rape\n",
       "count  50.00000   50.000000  50.000000  50.000000\n",
       "mean    7.78800  170.760000  65.540000  21.232000\n",
       "std     4.35551   83.337661  14.474763   9.366385\n",
       "min     0.80000   45.000000  32.000000   7.300000\n",
       "25%     4.07500  109.000000  54.500000  15.075000\n",
       "50%     7.25000  159.000000  66.000000  20.100000\n",
       "75%    11.25000  249.000000  77.750000  26.175000\n",
       "max    17.40000  337.000000  91.000000  46.000000"
      ]
     },
     "execution_count": 24,
     "metadata": {},
     "output_type": "execute_result"
    }
   ],
   "source": [
    "df.describe()"
   ]
  },
  {
   "cell_type": "code",
   "execution_count": 25,
   "id": "41250165",
   "metadata": {},
   "outputs": [
    {
     "name": "stdout",
     "output_type": "stream",
     "text": [
      "<class 'pandas.core.frame.DataFrame'>\n",
      "RangeIndex: 50 entries, 0 to 49\n",
      "Data columns (total 5 columns):\n",
      " #   Column    Non-Null Count  Dtype  \n",
      "---  ------    --------------  -----  \n",
      " 0   State     50 non-null     object \n",
      " 1   Murder    50 non-null     float64\n",
      " 2   Assault   50 non-null     int64  \n",
      " 3   UrbanPop  50 non-null     int64  \n",
      " 4   Rape      50 non-null     float64\n",
      "dtypes: float64(2), int64(2), object(1)\n",
      "memory usage: 2.1+ KB\n"
     ]
    }
   ],
   "source": [
    "df.info()"
   ]
  },
  {
   "cell_type": "markdown",
   "id": "d925978a",
   "metadata": {},
   "source": [
    "## Data Visualization "
   ]
  },
  {
   "cell_type": "code",
   "execution_count": 33,
   "id": "79be9b69",
   "metadata": {},
   "outputs": [
    {
     "data": {
      "image/png": "[encoded data removed]",
      "text/plain": [
       "<Figure size 800x500 with 1 Axes>"
      ]
     },
     "metadata": {},
     "output_type": "display_data"
    }
   ],
   "source": [
    "sns.set_theme(style=\"whitegrid\")\n",
    "plt.figure(figsize=(8, 5))\n",
    "sns.boxplot(data=df, orient=\"h\", palette=\"Set2\")\n",
    "plt.title(\"Feature Distributions\", size=16)\n",
    "plt.tight_layout()\n",
    "plt.show()"
   ]
  },
  {
   "cell_type": "code",
   "execution_count": 38,
   "id": "9bc4959b",
   "metadata": {},
   "outputs": [
    {
     "data": {
      "image/png": "[encoded data removed]",
      "text/plain": [
       "<Figure size 800x600 with 2 Axes>"
      ]
     },
     "metadata": {},
     "output_type": "display_data"
    }
   ],
   "source": [
    "sns.set_theme(style=\"dark\")\n",
    "plt.figure(figsize=(8, 6))\n",
    "corr_df = df.drop([\"State\"], axis=1).corr(numeric_only=True)\n",
    "mask_ut = np.triu(np.ones(corr_df.shape)).astype(bool)\n",
    "sns.heatmap(corr_df, mask=mask_ut, cmap=\"viridis\", annot=True, vmin=-1, vmax=1)\n",
    "plt.yticks(rotation=0)\n",
    "plt.title(\"Arrests Correlation Matrix\", size=18)\n",
    "plt.show()"
   ]
  },
  {
   "cell_type": "markdown",
   "id": "b0039f38",
   "metadata": {},
   "source": [
    "## Data Scaling & PCA Model"
   ]
  },
  {
   "cell_type": "code",
   "execution_count": 41,
   "id": "149f6b88",
   "metadata": {},
   "outputs": [],
   "source": [
    "X = df.drop([\"State\"], axis=1).values"
   ]
  },
  {
   "cell_type": "code",
   "execution_count": 42,
   "id": "d206f624",
   "metadata": {},
   "outputs": [],
   "source": [
    "X = StandardScaler().fit_transform(X)"
   ]
  },
  {
   "cell_type": "code",
   "execution_count": 43,
   "id": "0ecd068d",
   "metadata": {},
   "outputs": [],
   "source": [
    "pca = PCA()"
   ]
  },
  {
   "cell_type": "code",
   "execution_count": 53,
   "id": "12871e66",
   "metadata": {},
   "outputs": [
    {
     "data": {
      "text/html": [
       "<div>\n",
       "<style scoped>\n",
       "    .dataframe tbody tr th:only-of-type {\n",
       "        vertical-align: middle;\n",
       "    }\n",
       "\n",
       "    .dataframe tbody tr th {\n",
       "        vertical-align: top;\n",
       "    }\n",
       "\n",
       "    .dataframe thead th {\n",
       "        text-align: right;\n",
       "    }\n",
       "</style>\n",
       "<table border=\"1\" class=\"dataframe\">\n",
       "  <thead>\n",
       "    <tr style=\"text-align: right;\">\n",
       "      <th></th>\n",
       "      <th>PC1</th>\n",
       "      <th>PC2</th>\n",
       "      <th>PC3</th>\n",
       "      <th>PC4</th>\n",
       "    </tr>\n",
       "  </thead>\n",
       "  <tbody>\n",
       "    <tr>\n",
       "      <th>0</th>\n",
       "      <td>0.985566</td>\n",
       "      <td>1.133392</td>\n",
       "      <td>-0.444269</td>\n",
       "      <td>0.156267</td>\n",
       "    </tr>\n",
       "    <tr>\n",
       "      <th>1</th>\n",
       "      <td>1.950138</td>\n",
       "      <td>1.073213</td>\n",
       "      <td>2.040003</td>\n",
       "      <td>-0.438583</td>\n",
       "    </tr>\n",
       "    <tr>\n",
       "      <th>2</th>\n",
       "      <td>1.763164</td>\n",
       "      <td>-0.745957</td>\n",
       "      <td>0.054781</td>\n",
       "      <td>-0.834653</td>\n",
       "    </tr>\n",
       "    <tr>\n",
       "      <th>3</th>\n",
       "      <td>-0.141420</td>\n",
       "      <td>1.119797</td>\n",
       "      <td>0.114574</td>\n",
       "      <td>-0.182811</td>\n",
       "    </tr>\n",
       "    <tr>\n",
       "      <th>4</th>\n",
       "      <td>2.523980</td>\n",
       "      <td>-1.542934</td>\n",
       "      <td>0.598557</td>\n",
       "      <td>-0.341996</td>\n",
       "    </tr>\n",
       "  </tbody>\n",
       "</table>\n",
       "</div>"
      ],
      "text/plain": [
       "        PC1       PC2       PC3       PC4\n",
       "0  0.985566  1.133392 -0.444269  0.156267\n",
       "1  1.950138  1.073213  2.040003 -0.438583\n",
       "2  1.763164 -0.745957  0.054781 -0.834653\n",
       "3 -0.141420  1.119797  0.114574 -0.182811\n",
       "4  2.523980 -1.542934  0.598557 -0.341996"
      ]
     },
     "execution_count": 53,
     "metadata": {},
     "output_type": "execute_result"
    }
   ],
   "source": [
    "X_pca = pca.fit_transform(X)\n",
    "df_pca = pd.DataFrame(X_pca, columns=[\"PC1\", \"PC2\", \"PC3\", \"PC4\"])\n",
    "df_pca.head()"
   ]
  },
  {
   "cell_type": "code",
   "execution_count": 49,
   "id": "cc465fbf",
   "metadata": {},
   "outputs": [
    {
     "name": "stdout",
     "output_type": "stream",
     "text": [
      "Standard Deviation of PC1:\t1.59\n",
      "Standard Deviation of PC2:\t1.00\n"
     ]
    }
   ],
   "source": [
    "std = df_pca.describe().transpose()[\"std\"]\n",
    "for i in range(2):\n",
    "    print(f\"Standard Deviation of PC{i+1}:\\t{std[i]:.2f}\")"
   ]
  },
  {
   "cell_type": "markdown",
   "id": "f0288474",
   "metadata": {},
   "source": [
    "df_pca.describe(): \n",
    "This generates descriptive statistics of the DataFrame df_pca. It includes count, mean, standard deviation, minimum, 25th percentile (Q1), median (50th percentile or Q2), 75th percentile (Q3), and maximum.\n",
    "\n",
    "transpose(): \n",
    "This method transposes rows and columns in the DataFrame, effectively swapping rows with columns.\n",
    "\n",
    "[\"std\"]: \n",
    "This selects the row corresponding to the standard deviation (std) from the transposed DataFrame."
   ]
  },
  {
   "cell_type": "code",
   "execution_count": 48,
   "id": "046b39b2",
   "metadata": {},
   "outputs": [
    {
     "name": "stdout",
     "output_type": "stream",
     "text": [
      "Variance Explained by PC1:\t0.6201\n",
      "Variance Explained by PC2:\t0.2474\n"
     ]
    }
   ],
   "source": [
    "for i in range(2):\n",
    "    var = pca.explained_variance_ratio_[i]\n",
    "    print(f\"Variance Explained by PC{i+1}:\\t{var:.4f}\")"
   ]
  },
  {
   "cell_type": "code",
   "execution_count": null,
   "id": "6a067c9f",
   "metadata": {},
   "outputs": [],
   "source": []
  },
  {
   "cell_type": "markdown",
   "id": "d570e74d",
   "metadata": {},
   "source": [
    "## Scree Plot "
   ]
  },
  {
   "cell_type": "code",
   "execution_count": 50,
   "id": "84804b16",
   "metadata": {},
   "outputs": [
    {
     "data": {
      "image/png": "[encoded data removed]",
      "text/plain": [
       "<Figure size 800x600 with 1 Axes>"
      ]
     },
     "metadata": {},
     "output_type": "display_data"
    }
   ],
   "source": [
    "plt.figure(figsize=(8, 6))\n",
    "plt.plot(pca.explained_variance_ratio_, \"ro-\", linewidth=2)\n",
    "plt.title(\"Scree Plot\", size=16)\n",
    "plt.xlabel(\"Principal Component\")\n",
    "plt.ylabel(\"Variance Explained\")\n",
    "plt.xticks(range(4), [i+1 for i in range(4)])\n",
    "plt.show()"
   ]
  },
  {
   "cell_type": "code",
   "execution_count": null,
   "id": "1ac9e188",
   "metadata": {},
   "outputs": [],
   "source": []
  },
  {
   "cell_type": "markdown",
   "id": "799b22c7",
   "metadata": {},
   "source": [
    "# Q.3: Why Dimension Reduction is an Important Concept in Data Science?"
   ]
  },
  {
   "cell_type": "markdown",
   "id": "18063a87",
   "metadata": {},
   "source": [
    "Dimensionality Reduction:\n",
    "\n",
    "Dimensionality reduction is a technique used to reduce the number of features in a dataset while retaining as much of the important information as possible. In other words, it is a process of transforming high-dimensional data into a lower-dimensional space that still preserves the essence of the original data.\n",
    "\n",
    "In machine learning, high-dimensional data refers to data with a large number of features or variables. The curse of dimensionality is a common problem in machine learning, where the performance of the model deteriorates as the number of features increases. This is because the complexity of the model increases with the number of features, and it becomes more difficult to find a good solution. In addition, high-dimensional data can also lead to overfitting, where the model fits the training data too closely and does not generalize well to new data.\n",
    "\n",
    "Dimensionality reduction can help to mitigate these problems by reducing the complexity of the model and improving its generalization performance. There are two main approaches to dimensionality reduction: feature selection and feature extraction.\n",
    "\n",
    "Feature Selection:\n",
    "Feature selection involves selecting a subset of the original features that are most relevant to the problem at hand. The goal is to reduce the dimensionality of the dataset while retaining the most important features. There are several methods for feature selection, including filter methods, wrapper methods, and embedded methods. Filter methods rank the features based on their relevance to the target variable, wrapper methods use the model performance as the criteria for selecting features, and embedded methods combine feature selection with the model training process.\n",
    "\n",
    "Feature Extraction:\n",
    "Feature extraction involves creating new features by combining or transforming the original features. The goal is to create a set of features that captures the essence of the original data in a lower-dimensional space. There are several methods for feature extraction, including principal component analysis (PCA), linear discriminant analysis (LDA), and t-distributed stochastic neighbor embedding (t-SNE). PCA is a popular technique that projects the original features onto a lower-dimensional space while preserving as much of the variance as possible.\n",
    "\n",
    "\n",
    "\n",
    "\n",
    "\n",
    "Importance in DATA Science:\n",
    "\n",
    "An intuitive example of dimensionality reduction can be discussed through a simple e-mail classification problem, where we need to classify whether the e-mail is spam or not. This can involve a large number of features, such as whether or not the e-mail has a generic title, the content of the e-mail, whether the e-mail uses a template, etc. However, some of these features may overlap. In another condition, a classification problem that relies on both humidity and rainfall can be collapsed into just one underlying feature, since both of the aforementioned are correlated to a high degree. Hence, we can reduce the number of features in such problems. A 3-D classification problem can be hard to visualize, whereas a 2-D one can be mapped to a simple 2-dimensional space, and a 1-D problem to a simple line.\n",
    "\n",
    "There are two components of dimensionality reduction:\n",
    "\n",
    "Feature selection: In this, we try to find a subset of the original set of variables, or features, to get a smaller subset which can be used to model the problem. It usually involves three ways:\n",
    "1. Filter\n",
    "2. Wrapper\n",
    "3. Embedded\n",
    "\n",
    "\n",
    "Feature extraction: This reduces the data in a high dimensional space to a lower dimension space, i.e. a space with lesser no. of dimensions.\n",
    "\n",
    "\n",
    "\n",
    "Methods of Dimensionality Reduction\n",
    "The various methods used for dimensionality reduction include:\n",
    "\n",
    "1. Principal Component Analysis (PCA)\n",
    "2. Linear Discriminant Analysis (LDA)\n",
    "3. Generalized Discriminant Analysis (GDA)\n",
    "\n",
    "\n",
    "\n",
    "\n",
    "Dimensionality reduction may be both linear and non-linear, depending upon the method used. The prime linear method, called Principal Component Analysis, or PCA, is discussed below.\n",
    "\n",
    "This method was introduced by Karl Pearson. It works on the condition that while the data in a higher dimensional space is mapped to data in a lower dimension space, the variance of the data in the lower dimensional space should be maximum.\n",
    "\n",
    "It involves the following steps:\n",
    "1. Construct the covariance matrix of the data.\n",
    "2. Compute the eigenvectors of this matrix.\n",
    "3. Eigenvectors corresponding to the largest eigenvalues are used to reconstruct a large fraction of variance of the original data.\n",
    "\n",
    "\n",
    "\n",
    "In a nutshell:\n",
    "\n",
    "Dimensionality reduction is a crucial concept in data science for several compelling reasons:\n",
    "\n",
    "Complexity Reduction:\n",
    "As datasets grow in size and dimensionality, the complexity of models increases. This can lead to overfitting, where the model performs well on the training data but poorly on unseen data.\n",
    "Dimensionality reduction techniques help simplify the feature space by reducing the number of input variables. By doing so, they mitigate the curse of dimensionality and enhance model generalization.\n",
    "\n",
    "\n",
    "Improved Model Performance:\n",
    "High-dimensional data can overwhelm machine learning algorithms, making them computationally expensive and slow.\n",
    "By reducing the number of features, dimensionality reduction improves the efficiency of model training and prediction.\n",
    "It allows models to focus on the most relevant information, leading to better performance.\n",
    "\n",
    "\n",
    "Visualization:\n",
    "Visualizing high-dimensional data directly is challenging. Dimensionality reduction transforms data into a lower-dimensional space (e.g., 2D or 3D), making it easier to visualize.\n",
    "Techniques like Principal Component Analysis (PCA) help retain essential information while simplifying the representation.\n",
    "\n",
    "\n",
    "Avoiding Overfitting:\n",
    "Overfitting occurs when a model captures noise or specific patterns in the training data that do not generalize well.\n",
    "By reducing dimensionality, we reduce the risk of overfitting and improve the model’s ability to generalize to new data."
   ]
  },
  {
   "cell_type": "code",
   "execution_count": null,
   "id": "f1f701df",
   "metadata": {},
   "outputs": [],
   "source": []
  },
  {
   "cell_type": "markdown",
   "id": "9193670c",
   "metadata": {},
   "source": [
    "# Q.4: Explore Other Dimension Reduction Methods other than PCA. Explain it. "
   ]
  },
  {
   "cell_type": "markdown",
   "id": "e571baec",
   "metadata": {},
   "source": [
    "Other dimension reduction methods other than PCA are as follows:\n",
    "    \n",
    "1. Non-negative matrix factorization (NMF)\n",
    "NMF breaks down a non-negative matrix into the product of two non-negative ones. This is what makes the NMF method a valuable tool in areas that are primarily concerned with non-negative signals (for instance, astronomy). The multiplicative update rule by Lee & Seung improved the NMF technique by – including uncertainties, considering missing data and parallel computation, and sequential construction.These inclusions contributed to making the NMF approach stable and linear. Unlike PCA, NMF does not eliminate the mean of the matrices, thereby creating unphysical non-negative fluxes. Thus, NMF can preserve more information than the PCA method.Sequential NMF is characterized by a stable component base during construction and a linear modeling process. This makes it the perfect tool in astronomy. Sequential NMF can preserve the flux in the direct imaging of circumstellar structures in astronomy, such as detecting exoplanets and direct imaging of circumstellar disks. \n",
    "\n",
    "\n",
    "2. Linear discriminant analysis (LDA)\n",
    "The linear discriminant analysis is a generalization of Fisher’s linear discriminant method that is widely applied in statistics, pattern recognition, and machine learning. The LDA technique aims to find a linear combination of features that can characterize or differentiate between two or more classes of objects. LDA represents data in a way that maximizes class separability. While objects belonging to the same class are juxtaposed via projection, objects from different classes are arranged far apart. \n",
    "\n",
    "\n",
    "3. Generalized discriminant analysis (GDA)\n",
    "The generalized discriminant analysis is a nonlinear discriminant analysis that leverages the kernel function operator. Its underlying theory matches very closely to that of support vector machines (SVM), such that the GDA technique helps to map the input vectors into high-dimensional feature space. Just like the LDA approach, GDA also seeks to find a projection for variables in a lower-dimensional space by maximizing the ratio of between-class scatters to within-class scatter.\n",
    "\n",
    "\n",
    "4. Missing Values Ratio\n",
    "When you explore a given dataset, you might find that there are some missing values in the dataset. The first step in dealing with missing values is to identify the reason behind them. Accordingly, you can then impute the missing values or drop them altogether by using the befitting methods. This approach is perfect for situations when there are a few missing values. However, what to do when there are too many missing values, say, over 50%? In such situations, you can set a threshold value and use the missing values ratio method. The higher the threshold value, the more aggressive will be the dimensionality reduction. If the percentage of missing values in a variable exceeds the threshold, you can drop the variable. Generally, data columns having numerous missing values hardly contain useful information. So, you can remove all the data columns having missing values higher than the set threshold. \n",
    "\n",
    "\n",
    "5. Low Variance Filter\n",
    "Just as you use the missing values ratio method for missing variables, so for constant variables, there’s the low variance filter technique. When a dataset has constant variables, it is not possible to improve the model’s performance. Why? Because it has zero variance. In this method also, you can set a threshold value to wean out all the constant variables. So, all the data columns with variance lower than the threshold value will be eliminated. However, one thing you must remember about the low variance filter method is that variance is range dependent. Thus, normalization is a must before implementing this dimensionality reduction technique.\n",
    "\n",
    "\n",
    "6. High Correlation Filter\n",
    "If a dataset consists of data columns having a lot of similar patterns/trends, these data columns are highly likely to contain identical information. Also, dimensions that depict a higher correlation can adversely impact the model’s performance. In such an instance, one of those variables is enough to feed the ML model. For such situations, it’s best to use the Pearson correlation matrix to identify the variables showing a high correlation. Once they are identified, you can select one of them using VIF (Variance Inflation Factor). You can remove all the variables having a higher value ( VIF > 5 ). In this approach, you have to calculate the correlation coefficient between numerical columns (Pearson’s Product Moment Coefficient) and between nominal columns (Pearson’s chi-square value). Here, all the pairs of columns having a correlation coefficient higher than the set threshold will be reduced to 1. Since correlation is scale-sensitive, you must perform column normalization.\n",
    "\n",
    "\n",
    "7. Backward Feature Elimination\n",
    "In the backward feature elimination technique, you have to begin with all ‘n’ dimensions. Thus, at a given iteration, you can train a specific classification algorithm is trained on n input features. Now, you have to remove one input feature at a time and train the same model on n-1 input variables n times. Then you remove the input variable whose elimination generates the smallest increase in the error rate, which leaves behind n-1 input features. Further, you repeat the classification using n-2 features, and this continues till no other variable can be removed. Each iteration (k) creates a model trained on n-k features having an error rate of e(k). Following this, you must select the maximum bearable error rate to define the smallest number of features needed to reach that classification performance with the given ML algorithm.\n",
    "\n",
    "\n",
    "8. Forward Feature Construction\n",
    "The forward feature construction is the opposite of the backward feature elimination method. In the forward feature construction method, you begin with one feature and continue to progress by adding one feature at a time (this is the variable that results in the greatest boost in performance). Both forward feature construction and backward feature elimination are time and computation-intensive. These methods are best suited for datasets that already have a low number of input columns.\n",
    "\n",
    "\n",
    "9. Random Forests\n",
    "Random forests are not only excellent classifiers but are also extremely useful for feature selection. In this dimensionality reduction approach, you have to carefully construct an extensive network of trees against a target attribute. For instance, you can create a large set (say, 2000) of shallow trees (say, having two levels), where each tree is trained on a minor fraction (3) of the total number of attributes. The aim is to use each attribute’s usage statistics to identify the most informative subset of features. If an attribute is found to be the best split, it usually contains an informative feature that is worthy of consideration. When you calculate the score of an attribute’s usage statistics in the random forest in relation to other attributes, it gives you the most predictive attributes."
   ]
  }
 ],
 "metadata": {
  "kernelspec": {
   "display_name": "Python 3 (ipykernel)",
   "language": "python",
   "name": "python3"
  },
  "language_info": {
   "codemirror_mode": {
    "name": "ipython",
    "version": 3
   },
   "file_extension": ".py",
   "mimetype": "text/x-python",
   "name": "python",
   "nbconvert_exporter": "python",
   "pygments_lexer": "ipython3",
   "version": "3.11.5"
  }
 },
 "nbformat": 4,
 "nbformat_minor": 5
}
